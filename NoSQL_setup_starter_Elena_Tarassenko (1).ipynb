{
  "cells": [
    {
      "cell_type": "markdown",
      "id": "9a57c4c6",
      "metadata": {
        "id": "9a57c4c6"
      },
      "source": [
        "# Eat Safe, Love"
      ]
    },
    {
      "cell_type": "markdown",
      "id": "064ef857",
      "metadata": {
        "id": "064ef857"
      },
      "source": [
        "## Part 1: Database and Jupyter Notebook Set Up"
      ]
    },
    {
      "cell_type": "markdown",
      "id": "664e3c1f",
      "metadata": {
        "id": "664e3c1f"
      },
      "source": [
        "Import the data provided in the `establishments.json` file from your Terminal. Name the database `uk_food` and the collection `establishments`.\n",
        "\n",
        "Within this markdown cell, copy the line of text you used to import the data from your Terminal. This way, future analysts will be able to repeat your process.\n",
        "\n",
        "e.g.: Import the dataset with `YOUR IMPORT TEXT HERE`"
      ]
    },
    {
      "cell_type": "code",
      "execution_count": null,
      "id": "3ecdd008",
      "metadata": {
        "colab": {
          "base_uri": "https://localhost:8080/"
        },
        "id": "3ecdd008",
        "outputId": "21eacf0a-603f-4a62-a433-c156d9af80c5"
      },
      "outputs": [
        {
          "output_type": "stream",
          "name": "stdout",
          "text": [
            "Requirement already satisfied: pymongo in /usr/local/lib/python3.10/dist-packages (4.5.0)\n",
            "Requirement already satisfied: dnspython<3.0.0,>=1.16.0 in /usr/local/lib/python3.10/dist-packages (from pymongo) (2.4.2)\n",
            "/bin/bash: line 1: mongoimport: command not found\n"
          ]
        }
      ],
      "source": [
        "# Import dependencies\n",
        "!pip install pymongo\n",
        "from pymongo import MongoClient\n",
        "from pprint import pprint\n",
        "! mongoimport --type json -d uk_food -c establishments --drop --jsonArray Resources/establishments.json"
      ]
    },
    {
      "cell_type": "code",
      "execution_count": null,
      "id": "59390c4a",
      "metadata": {
        "id": "59390c4a"
      },
      "outputs": [],
      "source": [
        "# Create an instance of MongoClient\n",
        "mongo = MongoClient(port=27017)"
      ]
    },
    {
      "cell_type": "code",
      "execution_count": null,
      "id": "7f9ececa",
      "metadata": {
        "id": "7f9ececa"
      },
      "outputs": [],
      "source": [
        "# confirm that our new database was created\n",
        "pprint(df.list_collection_names())"
      ]
    },
    {
      "cell_type": "code",
      "execution_count": null,
      "id": "71e373c1",
      "metadata": {
        "id": "71e373c1"
      },
      "outputs": [],
      "source": [
        "# assign the uk_food database to a variable name\n",
        "ukfood = mongo['uk_food']"
      ]
    },
    {
      "cell_type": "code",
      "execution_count": null,
      "id": "ef1b89ed",
      "metadata": {
        "colab": {
          "base_uri": "https://localhost:8080/",
          "height": 399
        },
        "id": "ef1b89ed",
        "outputId": "224479fb-7419-4180-dd23-0fdf9f317b08"
      },
      "outputs": [
        {
          "output_type": "error",
          "ename": "ServerSelectionTimeoutError",
          "evalue": "ignored",
          "traceback": [
            "\u001b[0;31m---------------------------------------------------------------------------\u001b[0m",
            "\u001b[0;31mServerSelectionTimeoutError\u001b[0m               Traceback (most recent call last)",
            "\u001b[0;32m<ipython-input-13-7d08e74583c0>\u001b[0m in \u001b[0;36m<cell line: 2>\u001b[0;34m()\u001b[0m\n\u001b[1;32m      1\u001b[0m \u001b[0;31m# review the collections in our new database\u001b[0m\u001b[0;34m\u001b[0m\u001b[0;34m\u001b[0m\u001b[0m\n\u001b[0;32m----> 2\u001b[0;31m \u001b[0mprint\u001b[0m\u001b[0;34m(\u001b[0m\u001b[0mdb\u001b[0m\u001b[0;34m.\u001b[0m\u001b[0mlist_collection_names\u001b[0m\u001b[0;34m(\u001b[0m\u001b[0;34m)\u001b[0m\u001b[0;34m)\u001b[0m\u001b[0;34m\u001b[0m\u001b[0;34m\u001b[0m\u001b[0m\n\u001b[0m",
            "\u001b[0;32m/usr/local/lib/python3.10/dist-packages/pymongo/database.py\u001b[0m in \u001b[0;36mlist_collection_names\u001b[0;34m(self, session, filter, comment, **kwargs)\u001b[0m\n\u001b[1;32m   1147\u001b[0m                 \u001b[0mkwargs\u001b[0m\u001b[0;34m[\u001b[0m\u001b[0;34m\"nameOnly\"\u001b[0m\u001b[0;34m]\u001b[0m \u001b[0;34m=\u001b[0m \u001b[0;32mTrue\u001b[0m\u001b[0;34m\u001b[0m\u001b[0;34m\u001b[0m\u001b[0m\n\u001b[1;32m   1148\u001b[0m \u001b[0;34m\u001b[0m\u001b[0m\n\u001b[0;32m-> 1149\u001b[0;31m         \u001b[0;32mreturn\u001b[0m \u001b[0;34m[\u001b[0m\u001b[0mresult\u001b[0m\u001b[0;34m[\u001b[0m\u001b[0;34m\"name\"\u001b[0m\u001b[0;34m]\u001b[0m \u001b[0;32mfor\u001b[0m \u001b[0mresult\u001b[0m \u001b[0;32min\u001b[0m \u001b[0mself\u001b[0m\u001b[0;34m.\u001b[0m\u001b[0mlist_collections\u001b[0m\u001b[0;34m(\u001b[0m\u001b[0msession\u001b[0m\u001b[0;34m=\u001b[0m\u001b[0msession\u001b[0m\u001b[0;34m,\u001b[0m \u001b[0;34m**\u001b[0m\u001b[0mkwargs\u001b[0m\u001b[0;34m)\u001b[0m\u001b[0;34m]\u001b[0m\u001b[0;34m\u001b[0m\u001b[0;34m\u001b[0m\u001b[0m\n\u001b[0m\u001b[1;32m   1150\u001b[0m \u001b[0;34m\u001b[0m\u001b[0m\n\u001b[1;32m   1151\u001b[0m     def _drop_helper(\n",
            "\u001b[0;32m/usr/local/lib/python3.10/dist-packages/pymongo/database.py\u001b[0m in \u001b[0;36mlist_collections\u001b[0;34m(self, session, filter, comment, **kwargs)\u001b[0m\n\u001b[1;32m   1099\u001b[0m             \u001b[0;32mreturn\u001b[0m \u001b[0mself\u001b[0m\u001b[0;34m.\u001b[0m\u001b[0m_list_collections\u001b[0m\u001b[0;34m(\u001b[0m\u001b[0mconn\u001b[0m\u001b[0;34m,\u001b[0m \u001b[0msession\u001b[0m\u001b[0;34m,\u001b[0m \u001b[0mread_preference\u001b[0m\u001b[0;34m=\u001b[0m\u001b[0mread_preference\u001b[0m\u001b[0;34m,\u001b[0m \u001b[0;34m**\u001b[0m\u001b[0mkwargs\u001b[0m\u001b[0;34m)\u001b[0m\u001b[0;34m\u001b[0m\u001b[0;34m\u001b[0m\u001b[0m\n\u001b[1;32m   1100\u001b[0m \u001b[0;34m\u001b[0m\u001b[0m\n\u001b[0;32m-> 1101\u001b[0;31m         \u001b[0;32mreturn\u001b[0m \u001b[0mself\u001b[0m\u001b[0;34m.\u001b[0m\u001b[0m__client\u001b[0m\u001b[0;34m.\u001b[0m\u001b[0m_retryable_read\u001b[0m\u001b[0;34m(\u001b[0m\u001b[0m_cmd\u001b[0m\u001b[0;34m,\u001b[0m \u001b[0mread_pref\u001b[0m\u001b[0;34m,\u001b[0m \u001b[0msession\u001b[0m\u001b[0;34m)\u001b[0m\u001b[0;34m\u001b[0m\u001b[0;34m\u001b[0m\u001b[0m\n\u001b[0m\u001b[1;32m   1102\u001b[0m \u001b[0;34m\u001b[0m\u001b[0m\n\u001b[1;32m   1103\u001b[0m     def list_collection_names(\n",
            "\u001b[0;32m/usr/local/lib/python3.10/dist-packages/pymongo/_csot.py\u001b[0m in \u001b[0;36mcsot_wrapper\u001b[0;34m(self, *args, **kwargs)\u001b[0m\n\u001b[1;32m    106\u001b[0m                 \u001b[0;32mwith\u001b[0m \u001b[0m_TimeoutContext\u001b[0m\u001b[0;34m(\u001b[0m\u001b[0mtimeout\u001b[0m\u001b[0;34m)\u001b[0m\u001b[0;34m:\u001b[0m\u001b[0;34m\u001b[0m\u001b[0;34m\u001b[0m\u001b[0m\n\u001b[1;32m    107\u001b[0m                     \u001b[0;32mreturn\u001b[0m \u001b[0mfunc\u001b[0m\u001b[0;34m(\u001b[0m\u001b[0mself\u001b[0m\u001b[0;34m,\u001b[0m \u001b[0;34m*\u001b[0m\u001b[0margs\u001b[0m\u001b[0;34m,\u001b[0m \u001b[0;34m**\u001b[0m\u001b[0mkwargs\u001b[0m\u001b[0;34m)\u001b[0m\u001b[0;34m\u001b[0m\u001b[0;34m\u001b[0m\u001b[0m\n\u001b[0;32m--> 108\u001b[0;31m         \u001b[0;32mreturn\u001b[0m \u001b[0mfunc\u001b[0m\u001b[0;34m(\u001b[0m\u001b[0mself\u001b[0m\u001b[0;34m,\u001b[0m \u001b[0;34m*\u001b[0m\u001b[0margs\u001b[0m\u001b[0;34m,\u001b[0m \u001b[0;34m**\u001b[0m\u001b[0mkwargs\u001b[0m\u001b[0;34m)\u001b[0m\u001b[0;34m\u001b[0m\u001b[0;34m\u001b[0m\u001b[0m\n\u001b[0m\u001b[1;32m    109\u001b[0m \u001b[0;34m\u001b[0m\u001b[0m\n\u001b[1;32m    110\u001b[0m     \u001b[0;32mreturn\u001b[0m \u001b[0mcast\u001b[0m\u001b[0;34m(\u001b[0m\u001b[0mF\u001b[0m\u001b[0;34m,\u001b[0m \u001b[0mcsot_wrapper\u001b[0m\u001b[0;34m)\u001b[0m\u001b[0;34m\u001b[0m\u001b[0;34m\u001b[0m\u001b[0m\n",
            "\u001b[0;32m/usr/local/lib/python3.10/dist-packages/pymongo/mongo_client.py\u001b[0m in \u001b[0;36m_retryable_read\u001b[0;34m(self, func, read_pref, session, address, retryable)\u001b[0m\n\u001b[1;32m   1523\u001b[0m                     \u001b[0;32mraise\u001b[0m \u001b[0mlast_error\u001b[0m\u001b[0;34m\u001b[0m\u001b[0;34m\u001b[0m\u001b[0m\n\u001b[1;32m   1524\u001b[0m             \u001b[0;32mtry\u001b[0m\u001b[0;34m:\u001b[0m\u001b[0;34m\u001b[0m\u001b[0;34m\u001b[0m\u001b[0m\n\u001b[0;32m-> 1525\u001b[0;31m                 \u001b[0mserver\u001b[0m \u001b[0;34m=\u001b[0m \u001b[0mself\u001b[0m\u001b[0;34m.\u001b[0m\u001b[0m_select_server\u001b[0m\u001b[0;34m(\u001b[0m\u001b[0mread_pref\u001b[0m\u001b[0;34m,\u001b[0m \u001b[0msession\u001b[0m\u001b[0;34m,\u001b[0m \u001b[0maddress\u001b[0m\u001b[0;34m=\u001b[0m\u001b[0maddress\u001b[0m\u001b[0;34m)\u001b[0m\u001b[0;34m\u001b[0m\u001b[0;34m\u001b[0m\u001b[0m\n\u001b[0m\u001b[1;32m   1526\u001b[0m                 with self._conn_from_server(read_pref, server, session) as (\n\u001b[1;32m   1527\u001b[0m                     \u001b[0mconn\u001b[0m\u001b[0;34m,\u001b[0m\u001b[0;34m\u001b[0m\u001b[0;34m\u001b[0m\u001b[0m\n",
            "\u001b[0;32m/usr/local/lib/python3.10/dist-packages/pymongo/mongo_client.py\u001b[0m in \u001b[0;36m_select_server\u001b[0;34m(self, server_selector, session, address)\u001b[0m\n\u001b[1;32m   1295\u001b[0m                     \u001b[0;32mraise\u001b[0m \u001b[0mAutoReconnect\u001b[0m\u001b[0;34m(\u001b[0m\u001b[0;34m\"server %s:%s no longer available\"\u001b[0m \u001b[0;34m%\u001b[0m \u001b[0maddress\u001b[0m\u001b[0;34m)\u001b[0m\u001b[0;34m\u001b[0m\u001b[0;34m\u001b[0m\u001b[0m\n\u001b[1;32m   1296\u001b[0m             \u001b[0;32melse\u001b[0m\u001b[0;34m:\u001b[0m\u001b[0;34m\u001b[0m\u001b[0;34m\u001b[0m\u001b[0m\n\u001b[0;32m-> 1297\u001b[0;31m                 \u001b[0mserver\u001b[0m \u001b[0;34m=\u001b[0m \u001b[0mtopology\u001b[0m\u001b[0;34m.\u001b[0m\u001b[0mselect_server\u001b[0m\u001b[0;34m(\u001b[0m\u001b[0mserver_selector\u001b[0m\u001b[0;34m)\u001b[0m\u001b[0;34m\u001b[0m\u001b[0;34m\u001b[0m\u001b[0m\n\u001b[0m\u001b[1;32m   1298\u001b[0m             \u001b[0;32mreturn\u001b[0m \u001b[0mserver\u001b[0m\u001b[0;34m\u001b[0m\u001b[0;34m\u001b[0m\u001b[0m\n\u001b[1;32m   1299\u001b[0m         \u001b[0;32mexcept\u001b[0m \u001b[0mPyMongoError\u001b[0m \u001b[0;32mas\u001b[0m \u001b[0mexc\u001b[0m\u001b[0;34m:\u001b[0m\u001b[0;34m\u001b[0m\u001b[0;34m\u001b[0m\u001b[0m\n",
            "\u001b[0;32m/usr/local/lib/python3.10/dist-packages/pymongo/topology.py\u001b[0m in \u001b[0;36mselect_server\u001b[0;34m(self, selector, server_selection_timeout, address)\u001b[0m\n\u001b[1;32m    310\u001b[0m     ) -> Server:\n\u001b[1;32m    311\u001b[0m         \u001b[0;34m\"\"\"Like select_servers, but choose a random server if several match.\"\"\"\u001b[0m\u001b[0;34m\u001b[0m\u001b[0;34m\u001b[0m\u001b[0m\n\u001b[0;32m--> 312\u001b[0;31m         \u001b[0mserver\u001b[0m \u001b[0;34m=\u001b[0m \u001b[0mself\u001b[0m\u001b[0;34m.\u001b[0m\u001b[0m_select_server\u001b[0m\u001b[0;34m(\u001b[0m\u001b[0mselector\u001b[0m\u001b[0;34m,\u001b[0m \u001b[0mserver_selection_timeout\u001b[0m\u001b[0;34m,\u001b[0m \u001b[0maddress\u001b[0m\u001b[0;34m)\u001b[0m\u001b[0;34m\u001b[0m\u001b[0;34m\u001b[0m\u001b[0m\n\u001b[0m\u001b[1;32m    313\u001b[0m         \u001b[0;32mif\u001b[0m \u001b[0m_csot\u001b[0m\u001b[0;34m.\u001b[0m\u001b[0mget_timeout\u001b[0m\u001b[0;34m(\u001b[0m\u001b[0;34m)\u001b[0m\u001b[0;34m:\u001b[0m\u001b[0;34m\u001b[0m\u001b[0;34m\u001b[0m\u001b[0m\n\u001b[1;32m    314\u001b[0m             \u001b[0m_csot\u001b[0m\u001b[0;34m.\u001b[0m\u001b[0mset_rtt\u001b[0m\u001b[0;34m(\u001b[0m\u001b[0mserver\u001b[0m\u001b[0;34m.\u001b[0m\u001b[0mdescription\u001b[0m\u001b[0;34m.\u001b[0m\u001b[0mmin_round_trip_time\u001b[0m\u001b[0;34m)\u001b[0m\u001b[0;34m\u001b[0m\u001b[0;34m\u001b[0m\u001b[0m\n",
            "\u001b[0;32m/usr/local/lib/python3.10/dist-packages/pymongo/topology.py\u001b[0m in \u001b[0;36m_select_server\u001b[0;34m(self, selector, server_selection_timeout, address)\u001b[0m\n\u001b[1;32m    294\u001b[0m         \u001b[0maddress\u001b[0m\u001b[0;34m:\u001b[0m \u001b[0mOptional\u001b[0m\u001b[0;34m[\u001b[0m\u001b[0m_Address\u001b[0m\u001b[0;34m]\u001b[0m \u001b[0;34m=\u001b[0m \u001b[0;32mNone\u001b[0m\u001b[0;34m,\u001b[0m\u001b[0;34m\u001b[0m\u001b[0;34m\u001b[0m\u001b[0m\n\u001b[1;32m    295\u001b[0m     ) -> Server:\n\u001b[0;32m--> 296\u001b[0;31m         \u001b[0mservers\u001b[0m \u001b[0;34m=\u001b[0m \u001b[0mself\u001b[0m\u001b[0;34m.\u001b[0m\u001b[0mselect_servers\u001b[0m\u001b[0;34m(\u001b[0m\u001b[0mselector\u001b[0m\u001b[0;34m,\u001b[0m \u001b[0mserver_selection_timeout\u001b[0m\u001b[0;34m,\u001b[0m \u001b[0maddress\u001b[0m\u001b[0;34m)\u001b[0m\u001b[0;34m\u001b[0m\u001b[0;34m\u001b[0m\u001b[0m\n\u001b[0m\u001b[1;32m    297\u001b[0m         \u001b[0;32mif\u001b[0m \u001b[0mlen\u001b[0m\u001b[0;34m(\u001b[0m\u001b[0mservers\u001b[0m\u001b[0;34m)\u001b[0m \u001b[0;34m==\u001b[0m \u001b[0;36m1\u001b[0m\u001b[0;34m:\u001b[0m\u001b[0;34m\u001b[0m\u001b[0;34m\u001b[0m\u001b[0m\n\u001b[1;32m    298\u001b[0m             \u001b[0;32mreturn\u001b[0m \u001b[0mservers\u001b[0m\u001b[0;34m[\u001b[0m\u001b[0;36m0\u001b[0m\u001b[0;34m]\u001b[0m\u001b[0;34m\u001b[0m\u001b[0;34m\u001b[0m\u001b[0m\n",
            "\u001b[0;32m/usr/local/lib/python3.10/dist-packages/pymongo/topology.py\u001b[0m in \u001b[0;36mselect_servers\u001b[0;34m(self, selector, server_selection_timeout, address)\u001b[0m\n\u001b[1;32m    245\u001b[0m \u001b[0;34m\u001b[0m\u001b[0m\n\u001b[1;32m    246\u001b[0m         \u001b[0;32mwith\u001b[0m \u001b[0mself\u001b[0m\u001b[0;34m.\u001b[0m\u001b[0m_lock\u001b[0m\u001b[0;34m:\u001b[0m\u001b[0;34m\u001b[0m\u001b[0;34m\u001b[0m\u001b[0m\n\u001b[0;32m--> 247\u001b[0;31m             \u001b[0mserver_descriptions\u001b[0m \u001b[0;34m=\u001b[0m \u001b[0mself\u001b[0m\u001b[0;34m.\u001b[0m\u001b[0m_select_servers_loop\u001b[0m\u001b[0;34m(\u001b[0m\u001b[0mselector\u001b[0m\u001b[0;34m,\u001b[0m \u001b[0mserver_timeout\u001b[0m\u001b[0;34m,\u001b[0m \u001b[0maddress\u001b[0m\u001b[0;34m)\u001b[0m\u001b[0;34m\u001b[0m\u001b[0;34m\u001b[0m\u001b[0m\n\u001b[0m\u001b[1;32m    248\u001b[0m \u001b[0;34m\u001b[0m\u001b[0m\n\u001b[1;32m    249\u001b[0m             return [\n",
            "\u001b[0;32m/usr/local/lib/python3.10/dist-packages/pymongo/topology.py\u001b[0m in \u001b[0;36m_select_servers_loop\u001b[0;34m(self, selector, timeout, address)\u001b[0m\n\u001b[1;32m    267\u001b[0m             \u001b[0;31m# No suitable servers.\u001b[0m\u001b[0;34m\u001b[0m\u001b[0;34m\u001b[0m\u001b[0m\n\u001b[1;32m    268\u001b[0m             \u001b[0;32mif\u001b[0m \u001b[0mtimeout\u001b[0m \u001b[0;34m==\u001b[0m \u001b[0;36m0\u001b[0m \u001b[0;32mor\u001b[0m \u001b[0mnow\u001b[0m \u001b[0;34m>\u001b[0m \u001b[0mend_time\u001b[0m\u001b[0;34m:\u001b[0m\u001b[0;34m\u001b[0m\u001b[0;34m\u001b[0m\u001b[0m\n\u001b[0;32m--> 269\u001b[0;31m                 raise ServerSelectionTimeoutError(\n\u001b[0m\u001b[1;32m    270\u001b[0m                     \u001b[0;34mf\"{self._error_message(selector)}, Timeout: {timeout}s, Topology Description: {self.description!r}\"\u001b[0m\u001b[0;34m\u001b[0m\u001b[0;34m\u001b[0m\u001b[0m\n\u001b[1;32m    271\u001b[0m                 )\n",
            "\u001b[0;31mServerSelectionTimeoutError\u001b[0m: localhost:27017: [Errno 111] Connection refused, Timeout: 30s, Topology Description: <TopologyDescription id: 65108b9dbfc73e81d9001fd1, topology_type: Unknown, servers: [<ServerDescription ('localhost', 27017) server_type: Unknown, rtt: None, error=AutoReconnect('localhost:27017: [Errno 111] Connection refused')>]>"
          ]
        }
      ],
      "source": [
        "# review the collections in our new database\n",
        "pprint(db.list_collection_names())"
      ]
    },
    {
      "cell_type": "code",
      "execution_count": null,
      "id": "6a0d92df",
      "metadata": {
        "id": "6a0d92df"
      },
      "outputs": [],
      "source": [
        "# assign the collection to a variable\n",
        "establishments = db['establishments']\n",
        "# review a document in the establishments collection\n",
        "pprint(db.establishments.find_one())"
      ]
    },
    {
      "cell_type": "code",
      "execution_count": null,
      "id": "11c9f11b",
      "metadata": {
        "id": "11c9f11b"
      },
      "outputs": [],
      "source": [
        "# assign the collection to a variable\n",
        "establishments = db['establishments']"
      ]
    },
    {
      "cell_type": "markdown",
      "id": "d5671434",
      "metadata": {
        "id": "d5671434"
      },
      "source": [
        "## Part 2: Update the Database"
      ]
    },
    {
      "cell_type": "markdown",
      "id": "314bd884",
      "metadata": {
        "id": "314bd884"
      },
      "source": [
        "1. An exciting new halal restaurant just opened in Greenwich, but hasn't been rated yet. The magazine has asked you to include it in your analysis. Add the following restaurant \"Penang Flavours\" to the database."
      ]
    },
    {
      "cell_type": "code",
      "execution_count": null,
      "id": "c2da7648",
      "metadata": {
        "id": "c2da7648"
      },
      "outputs": [],
      "source": [
        "# Create a dictionary for the new restaurant data\n",
        "new_restaurant={\"restaurant_name\":\"Penang Flavours\"}"
      ]
    },
    {
      "cell_type": "code",
      "execution_count": null,
      "id": "a6e5cece",
      "metadata": {
        "id": "a6e5cece"
      },
      "outputs": [],
      "source": [
        "# Insert the new restaurant into the collection\n",
        "establishments.insert_one(new_restaurant)"
      ]
    },
    {
      "cell_type": "code",
      "execution_count": null,
      "id": "63bb10f9",
      "metadata": {
        "id": "63bb10f9"
      },
      "outputs": [],
      "source": [
        "# Check that the new restaurant was inserted\n",
        "establishments.find_one({\"restaurant_name\":\"Penang Flavours\"})"
      ]
    },
    {
      "cell_type": "markdown",
      "id": "0ef4395a",
      "metadata": {
        "id": "0ef4395a"
      },
      "source": [
        "2. Find the BusinessTypeID for \"Restaurant/Cafe/Canteen\" and return only the `BusinessTypeID` and `BusinessType` fields."
      ]
    },
    {
      "cell_type": "code",
      "execution_count": null,
      "id": "93c63829",
      "metadata": {
        "id": "93c63829"
      },
      "outputs": [],
      "source": [
        "# Find the BusinessTypeID for \"Restaurant/Cafe/Canteen\" and return only the BusinessTypeID and BusinessType fields\n",
        "query={\"BusinessType\": \"Restaurant/Cafe/Canteen\"}\n",
        "fields={\"BusinessTypeID\",\"BusinessType\"}\n",
        "establishments.find_one(query,fields)\n",
        "\n"
      ]
    },
    {
      "cell_type": "markdown",
      "id": "4e570caf",
      "metadata": {
        "id": "4e570caf"
      },
      "source": [
        "3. Update the new restaurant with the `BusinessTypeID` you found."
      ]
    },
    {
      "cell_type": "code",
      "execution_count": null,
      "id": "7f599f3d",
      "metadata": {
        "id": "7f599f3d"
      },
      "outputs": [],
      "source": [
        "# Update the new restaurant with the correct BusinessTypeID\n",
        "establishments.update_one(new_restaurant,{\"$set\":{\"BusinessTypeID\":12345}})"
      ]
    },
    {
      "cell_type": "code",
      "execution_count": null,
      "id": "a6ad16f7",
      "metadata": {
        "id": "a6ad16f7"
      },
      "outputs": [],
      "source": [
        "# Confirm that the new restaurant was updated\n",
        "establishments.find_one({\"restaurant_name\": \"Penang Flavours\"})"
      ]
    },
    {
      "cell_type": "markdown",
      "id": "67281254",
      "metadata": {
        "id": "67281254"
      },
      "source": [
        "4. The magazine is not interested in any establishments in Dover, so check how many documents contain the Dover Local Authority. Then, remove any establishments within the Dover Local Authority from the database, and check the number of documents to ensure they were deleted."
      ]
    },
    {
      "cell_type": "code",
      "execution_count": null,
      "id": "768474a6",
      "metadata": {
        "id": "768474a6"
      },
      "outputs": [],
      "source": [
        "# Find how many documents have LocalAuthorityName as \"Dover\"\n",
        "establishments.count_documents({\"LocalAuthorityName\":\"Dover\"})"
      ]
    },
    {
      "cell_type": "code",
      "execution_count": null,
      "id": "a11d5f1b",
      "metadata": {
        "id": "a11d5f1b"
      },
      "outputs": [],
      "source": [
        "# Delete all documents where LocalAuthorityName is \"Dover\"\n",
        "establishments.delete_many({\"LocalAuthorityName\":\"Dover\"})"
      ]
    },
    {
      "cell_type": "code",
      "execution_count": null,
      "id": "2a51aba0",
      "metadata": {
        "id": "2a51aba0"
      },
      "outputs": [],
      "source": [
        "# Check if any remaining documents include Dover\n",
        "pprint(establishments.count_documents({\"LocalAuthorityName\":\"Dover\"}))"
      ]
    },
    {
      "cell_type": "code",
      "execution_count": null,
      "id": "8c356f7b",
      "metadata": {
        "id": "8c356f7b"
      },
      "outputs": [],
      "source": [
        "# Check that other documents remain with 'find_one'\n",
        "establishments.find_one()"
      ]
    },
    {
      "cell_type": "markdown",
      "id": "e9f1662d",
      "metadata": {
        "id": "e9f1662d"
      },
      "source": [
        "5. Some of the number values are stored as strings, when they should be stored as numbers."
      ]
    },
    {
      "cell_type": "markdown",
      "id": "c46df2df",
      "metadata": {
        "id": "c46df2df"
      },
      "source": [
        "Use `update_many` to convert `latitude` and `longitude` to decimal numbers."
      ]
    },
    {
      "cell_type": "code",
      "execution_count": null,
      "id": "fd4112ce",
      "metadata": {
        "id": "fd4112ce"
      },
      "outputs": [],
      "source": [
        "# Change the data type from String to Decimal for longitude and latitude\n",
        "establishments.update_many({[longitude,latitude]},[\"$set\":{\"geocode.longitude\":{\"to$Double\":\"$geocode.longitude\"},{\"geocode.latitude\":{\"$toDouble\":\"$geocode.latitude\"}}])"
      ]
    },
    {
      "cell_type": "markdown",
      "id": "142e319c",
      "metadata": {
        "id": "142e319c"
      },
      "source": [
        "Use `update_many` to convert `RatingValue` to integer numbers."
      ]
    },
    {
      "cell_type": "code",
      "execution_count": null,
      "id": "04430a5b",
      "metadata": {
        "id": "04430a5b"
      },
      "outputs": [],
      "source": [
        "# Set non 1-5 Rating Values to Null\n",
        "non_ratings = [\"AwaitingInspection\", \"Awaiting Inspection\", \"AwaitingPublication\", \"Pass\", \"Exempt\"]\n",
        "establishments.update_many({\"RatingValue\": {\"$in\": non_ratings}}, [ {'$set':{ \"RatingValue\" : None}} ])"
      ]
    },
    {
      "cell_type": "code",
      "execution_count": null,
      "id": "92524ccc",
      "metadata": {
        "id": "92524ccc"
      },
      "outputs": [],
      "source": [
        "# Change the data type from String to Integer for RatingValue\n",
        "establishments.update_many({},[\"$set\":{\"RatingValue\":{\"$toDouble\":\"$RatingValue\"}}])"
      ]
    },
    {
      "cell_type": "code",
      "execution_count": null,
      "id": "0deacaf9",
      "metadata": {
        "id": "0deacaf9",
        "colab": {
          "base_uri": "https://localhost:8080/",
          "height": 232
        },
        "outputId": "e0002f59-5e4b-48c9-9dbf-b762e76e5462"
      },
      "outputs": [
        {
          "output_type": "error",
          "ename": "NameError",
          "evalue": "ignored",
          "traceback": [
            "\u001b[0;31m---------------------------------------------------------------------------\u001b[0m",
            "\u001b[0;31mNameError\u001b[0m                                 Traceback (most recent call last)",
            "\u001b[0;32m<ipython-input-15-16c0f8205bc1>\u001b[0m in \u001b[0;36m<cell line: 2>\u001b[0;34m()\u001b[0m\n\u001b[1;32m      1\u001b[0m \u001b[0;31m# Check that the coordinates and rating value are now numbers\u001b[0m\u001b[0;34m\u001b[0m\u001b[0;34m\u001b[0m\u001b[0m\n\u001b[0;32m----> 2\u001b[0;31m \u001b[0mprint\u001b[0m\u001b[0;34m(\u001b[0m\u001b[0mtype\u001b[0m\u001b[0;34m(\u001b[0m\u001b[0mlongitude\u001b[0m\u001b[0;34m)\u001b[0m\u001b[0;34m)\u001b[0m\u001b[0;34m\u001b[0m\u001b[0;34m\u001b[0m\u001b[0m\n\u001b[0m\u001b[1;32m      3\u001b[0m \u001b[0mprint\u001b[0m\u001b[0;34m(\u001b[0m\u001b[0mtype\u001b[0m\u001b[0;34m(\u001b[0m\u001b[0mlatitude\u001b[0m\u001b[0;34m)\u001b[0m\u001b[0;34m)\u001b[0m\u001b[0;34m\u001b[0m\u001b[0;34m\u001b[0m\u001b[0m\n\u001b[1;32m      4\u001b[0m \u001b[0mprint\u001b[0m\u001b[0;34m(\u001b[0m\u001b[0mtype\u001b[0m\u001b[0;34m(\u001b[0m\u001b[0mRatingValue\u001b[0m\u001b[0;34m)\u001b[0m\u001b[0;34m)\u001b[0m\u001b[0;34m\u001b[0m\u001b[0;34m\u001b[0m\u001b[0m\n",
            "\u001b[0;31mNameError\u001b[0m: name 'longitude' is not defined"
          ]
        }
      ],
      "source": [
        "# Check that the coordinates and rating value are now numbers\n",
        "print(type(longitude))\n",
        "print(type(latitude))\n",
        "print(type(RatingValue))"
      ]
    },
    {
      "cell_type": "code",
      "source": [],
      "metadata": {
        "id": "D-LW7DOG-zJo"
      },
      "id": "D-LW7DOG-zJo",
      "execution_count": null,
      "outputs": []
    }
  ],
  "metadata": {
    "kernelspec": {
      "display_name": "Python 3 (ipykernel)",
      "language": "python",
      "name": "python3"
    },
    "language_info": {
      "codemirror_mode": {
        "name": "ipython",
        "version": 3
      },
      "file_extension": ".py",
      "mimetype": "text/x-python",
      "name": "python",
      "nbconvert_exporter": "python",
      "pygments_lexer": "ipython3",
      "version": "3.10.4"
    },
    "colab": {
      "provenance": []
    }
  },
  "nbformat": 4,
  "nbformat_minor": 5
}