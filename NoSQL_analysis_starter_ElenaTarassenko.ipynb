{
  "cells": [
    {
      "cell_type": "markdown",
      "id": "9a57c4c6",
      "metadata": {
        "id": "9a57c4c6"
      },
      "source": [
        "# Eat Safe, Love"
      ]
    },
    {
      "cell_type": "markdown",
      "id": "064ef857",
      "metadata": {
        "id": "064ef857"
      },
      "source": [
        "## Notebook Set Up"
      ]
    },
    {
      "cell_type": "code",
      "execution_count": null,
      "id": "3ecdd008",
      "metadata": {
        "id": "3ecdd008"
      },
      "outputs": [],
      "source": [
        "# Import dependencies\n",
        "from pymongo import MongoClient\n",
        "from pprint import pprint"
      ]
    },
    {
      "cell_type": "code",
      "execution_count": null,
      "id": "59390c4a",
      "metadata": {
        "id": "59390c4a"
      },
      "outputs": [],
      "source": [
        "# Create an instance of MongoClient\n",
        "mongo = MongoClient(port=27017)"
      ]
    },
    {
      "cell_type": "code",
      "execution_count": null,
      "id": "71e373c1",
      "metadata": {
        "id": "71e373c1"
      },
      "outputs": [],
      "source": [
        "# assign the uk_food database to a variable name\n",
        "db = mongo['uk_food']"
      ]
    },
    {
      "cell_type": "code",
      "execution_count": null,
      "id": "18ab463c",
      "metadata": {
        "id": "18ab463c"
      },
      "outputs": [],
      "source": [
        "# review the collections in our database\n"
      ]
    },
    {
      "cell_type": "code",
      "execution_count": null,
      "id": "11c9f11b",
      "metadata": {
        "id": "11c9f11b"
      },
      "outputs": [],
      "source": [
        "# assign the collection to a variable\n",
        "establishments = db['establishments']"
      ]
    },
    {
      "cell_type": "markdown",
      "id": "d5671434",
      "metadata": {
        "id": "d5671434"
      },
      "source": [
        "## Part 3: Exploratory Analysis\n",
        "Unless otherwise stated, for each question:\n",
        "* Use `count_documents` to display the number of documents contained in the result.\n",
        "* Display the first document in the results using `pprint`.\n",
        "* Convert the result to a Pandas DataFrame, print the number of rows in the DataFrame, and display the first 10 rows."
      ]
    },
    {
      "cell_type": "markdown",
      "id": "314bd884",
      "metadata": {
        "id": "314bd884"
      },
      "source": [
        "### 1. Which establishments have a hygiene score equal to 20?"
      ]
    },
    {
      "cell_type": "code",
      "execution_count": null,
      "id": "c2da7648",
      "metadata": {
        "id": "c2da7648"
      },
      "outputs": [],
      "source": [
        "# Find the establishments with a hygiene score of 20\n",
        "query =establishments.find_many({\"hygiene\":20})\n",
        "\n",
        "# Use count_documents to display the number of documents in the result\n",
        "query2=establishments.count_documents({\"hygiene\":20})\n",
        "# Display the first document in the results using pprint\n",
        "pprint(establishments.find_one({\"hygiene\":20}))"
      ]
    },
    {
      "cell_type": "code",
      "execution_count": null,
      "id": "a6e5cece",
      "metadata": {
        "id": "a6e5cece"
      },
      "outputs": [],
      "source": [
        "# Convert the result to a Pandas DataFrame\n",
        "df1=pd.DataFrame(query1)\n",
        "# Display the number of rows in the DataFrame\n",
        "df1.shape\n",
        "# Display the first 10 rows of the DataFrame\n",
        "print(df1.head(10))"
      ]
    },
    {
      "cell_type": "markdown",
      "id": "0ef4395a",
      "metadata": {
        "id": "0ef4395a"
      },
      "source": [
        "### 2. Which establishments in London have a `RatingValue` greater than or equal to 4?"
      ]
    },
    {
      "cell_type": "code",
      "execution_count": null,
      "id": "93c63829",
      "metadata": {
        "id": "93c63829"
      },
      "outputs": [],
      "source": [
        "# Find the establishments with London as the Local Authority and has a RatingValue greater than or equal to 4.\n",
        "query =establishments.find_many({\"Local Authority\":\"^(London)\\s([A-Za-z]{5})\\s([A-Za-z]{9})$\"},{\"RatingValue\":4})\n",
        "\n",
        "# Use count_documents to display the number of documents in the result\n",
        "establishments.count_documents(query)\n",
        "# Display the first document in the results using pprint\n",
        "pprint(establishments.find_one(query))"
      ]
    },
    {
      "cell_type": "code",
      "execution_count": null,
      "id": "07e24ccb",
      "metadata": {
        "id": "07e24ccb"
      },
      "outputs": [],
      "source": [
        "# Convert the result to a Pandas DataFrame\n",
        "result1=pd.DataFrame(query)\n",
        "# Display the number of rows in the DataFrame\n",
        "result1.shape\n",
        "# Display the first 10 rows of the DataFrame\n",
        "print(result1.head(10))"
      ]
    },
    {
      "cell_type": "markdown",
      "id": "4e570caf",
      "metadata": {
        "id": "4e570caf"
      },
      "source": [
        "### 3. What are the top 5 establishments with a `RatingValue` rating value of 5, sorted by lowest hygiene score, nearest to the new restaurant added, \"Penang Flavours\"?"
      ]
    },
    {
      "cell_type": "code",
      "execution_count": null,
      "id": "7f599f3d",
      "metadata": {
        "id": "7f599f3d"
      },
      "outputs": [],
      "source": [
        "# Search within 0.01 degree on either side of the latitude and longitude.\n",
        "# Rating value must equal 5\n",
        "# Sort by hygiene score\n",
        "\n",
        "degree_search = 0.01\n",
        "latitude =\n",
        "longitude =\n",
        "\n",
        "query =\n",
        "sort =\n",
        "\n",
        "# Print the results\n",
        "pprint(result)"
      ]
    },
    {
      "cell_type": "code",
      "execution_count": null,
      "id": "a6ad16f7",
      "metadata": {
        "id": "a6ad16f7"
      },
      "outputs": [],
      "source": [
        "# Convert result to Pandas DataFrame\n",
        "pd.DataFrame(result)"
      ]
    },
    {
      "cell_type": "markdown",
      "id": "67281254",
      "metadata": {
        "id": "67281254"
      },
      "source": [
        "### 4. How many establishments in each Local Authority area have a hygiene score of 0?"
      ]
    },
    {
      "cell_type": "code",
      "execution_count": null,
      "id": "4eeb227e",
      "metadata": {
        "id": "4eeb227e"
      },
      "outputs": [],
      "source": [
        "# Create a pipeline that:\n",
        "# 1. Matches establishments with a hygiene score of 0\n",
        "# 2. Groups the matches by Local Authority\n",
        "# 3. Sorts the matches from highest to lowest\n",
        "result2\n",
        "# Print the number of documents in the result\n",
        "print(df.shape)\n",
        "# Print the first 10 results\n",
        "print(df.head(10))"
      ]
    },
    {
      "cell_type": "code",
      "execution_count": null,
      "id": "d8aab364",
      "metadata": {
        "id": "d8aab364"
      },
      "outputs": [],
      "source": [
        "# Convert the result to a Pandas DataFrame\n",
        "pd.DataFrame(result2)\n",
        "# Display the number of rows in the DataFrame\n",
        "result2.shape\n",
        "# Display the first 10 rows of the DataFrame\n",
        "result2.head(10)"
      ]
    }
  ],
  "metadata": {
    "kernelspec": {
      "display_name": "Python 3 (ipykernel)",
      "language": "python",
      "name": "python3"
    },
    "language_info": {
      "codemirror_mode": {
        "name": "ipython",
        "version": 3
      },
      "file_extension": ".py",
      "mimetype": "text/x-python",
      "name": "python",
      "nbconvert_exporter": "python",
      "pygments_lexer": "ipython3",
      "version": "3.10.4"
    },
    "colab": {
      "provenance": []
    }
  },
  "nbformat": 4,
  "nbformat_minor": 5
}